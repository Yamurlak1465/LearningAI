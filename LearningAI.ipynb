{
  "nbformat": 4,
  "nbformat_minor": 0,
  "metadata": {
    "colab": {
      "provenance": [],
      "collapsed_sections": [
        "845BrWls7YQv"
      ],
      "authorship_tag": "ABX9TyNR5SW/Ak97mgaEF3o9pV+Z",
      "include_colab_link": true
    },
    "kernelspec": {
      "name": "python3",
      "display_name": "Python 3"
    },
    "language_info": {
      "name": "python"
    }
  },
  "cells": [
    {
      "cell_type": "markdown",
      "metadata": {
        "id": "view-in-github",
        "colab_type": "text"
      },
      "source": [
        "<a href=\"https://colab.research.google.com/github/Yamurlak1465/LearningAI/blob/main/LearningAI.ipynb\" target=\"_parent\"><img src=\"https://colab.research.google.com/assets/colab-badge.svg\" alt=\"Open In Colab\"/></a>"
      ]
    },
    {
      "cell_type": "markdown",
      "source": [
        "# **Imports**"
      ],
      "metadata": {
        "id": "ckV_uwlm7ioa"
      }
    },
    {
      "cell_type": "code",
      "source": [
        "import torch\n",
        "import numpy as np"
      ],
      "metadata": {
        "id": "EDHlv2ET6Trl"
      },
      "execution_count": null,
      "outputs": []
    },
    {
      "cell_type": "markdown",
      "source": [
        "# **Check Version Command**"
      ],
      "metadata": {
        "id": "oJLVBkKuNJOS"
      }
    },
    {
      "cell_type": "code",
      "source": [
        "#!pip list"
      ],
      "metadata": {
        "id": "qQvmQKEbNM6V"
      },
      "execution_count": null,
      "outputs": []
    },
    {
      "cell_type": "markdown",
      "source": [
        "# **Lists, NumPy Arrays and Tensors**"
      ],
      "metadata": {
        "id": "845BrWls7YQv"
      }
    },
    {
      "cell_type": "code",
      "source": [
        "#List\n",
        "#my_list = [[1, 2, 3, 4, 5], [6, 7, 8, 9, 10]]\n",
        "#my_list\n",
        "\n",
        "\n",
        "#NumPy Array\n",
        "#numpy1 = np.random.rand(5,5)\n",
        "#numpy1.dtype\n",
        "#numpy1\n",
        "\n",
        "\n",
        "#Tensor\n",
        "#tensor_2d = torch.rand(5,5)\n",
        "#tensor_2d.dtype\n",
        "#tensor_2d\n",
        "\n",
        "#tensor_3d = torch.zeros(3,4,5)\n",
        "#tensor_3d"
      ],
      "metadata": {
        "id": "EOqgRoWc65Gt"
      },
      "execution_count": null,
      "outputs": []
    },
    {
      "cell_type": "markdown",
      "source": [
        "## **Conversion of a NumPy Array to a Tensor**"
      ],
      "metadata": {
        "id": "V2JBPej47nsp"
      }
    },
    {
      "cell_type": "code",
      "source": [
        "#Converting a NumPy Array into a Tensor\n",
        "#my_tensor = torch.tensor(numpy1)\n",
        "#my_tensor"
      ],
      "metadata": {
        "id": "WRQjDRaz3_kc"
      },
      "execution_count": null,
      "outputs": []
    },
    {
      "cell_type": "markdown",
      "source": [
        "# **Tensor Operations**"
      ],
      "metadata": {
        "id": "coJOnVGc758B"
      }
    },
    {
      "cell_type": "code",
      "source": [
        "#Reshape and View (They work pretty much the same)\n",
        "\n",
        "#Reshape\n",
        "my_torch = torch.arange(10)\n",
        "my_torch\n",
        "\n",
        "my_torch = my_torch.reshape(2,5)\n",
        "my_torch\n",
        "\n",
        "#Reshape if we don't know the nuber of items using -1 (In case the Tensor has millions of items and we are not sure of the exact number of items)\n",
        "my_torch2 = torch.arange(15)\n",
        "my_torch2\n",
        "\n",
        "my_torch2 = my_torch2.reshape(3, -1)\n",
        "my_torch2\n",
        "\n",
        "\n",
        "\n",
        "#View\n",
        "\n",
        "my_torch3 = torch.arange(10)\n",
        "my_torch3\n",
        "\n",
        "my_torch3 = my_torch3.view(2,5)\n",
        "my_torch3\n",
        "\n",
        "\n",
        "#With Reshape and View they will update\n",
        "my_torch4 = torch.arange(15)\n",
        "my_torch4\n",
        "\n",
        "my_torch5 = my_torch4.reshape(3, 5)\n",
        "my_torch5\n",
        "\n",
        "#Changing an item. (If we modify an item in my_torch4 the change will be reflecte in my_torch5 and any other variable that is related to my_torch4)\n",
        "my_torch4[6] = 69\n",
        "my_torch4\n",
        "my_torch5"
      ],
      "metadata": {
        "id": "irslAUAN6Xis"
      },
      "execution_count": null,
      "outputs": []
    },
    {
      "cell_type": "markdown",
      "source": [
        "# **Slices**"
      ],
      "metadata": {
        "id": "tFMILbSSBk1b"
      }
    },
    {
      "cell_type": "code",
      "source": [
        "#Slices\n",
        "my_torch7 = torch.arange(10)\n",
        "my_torch7\n",
        "\n",
        "#Grab a specific item\n",
        "my_torch7[5]\n",
        "\n",
        "#Grab a slice/ a part of the tensor\n",
        "my_torch7 = my_torch7.reshape(5,2)\n",
        "my_torch7[:,1] #Leaving aside the first slice/part of the tensor and only selecting the second one\n",
        "#Return a column\n",
        "my_torch7[:,1:] #Leaving aside the first slice/part of the tensor and only selecting the second one and keeping it into a column, not a row"
      ],
      "metadata": {
        "id": "D1R1s0URBn8u"
      },
      "execution_count": null,
      "outputs": []
    },
    {
      "cell_type": "markdown",
      "source": [
        "# **Basic Tensor math operations**"
      ],
      "metadata": {
        "id": "embp81dmEBAX"
      }
    },
    {
      "cell_type": "code",
      "source": [
        "tensor1 = torch.tensor([1, 2, 3 ,4 ,5])\n",
        "tensor2 = torch.tensor([6, 7, 8 ,9 ,10])\n",
        "\n",
        "#Adunare\n",
        "tensor1 + tensor2\n",
        "#Adunare cu functia add()\n",
        "torch.add(tensor1, tensor2)\n",
        "\n",
        "\n",
        "#Scadere\n",
        "tensor2 - tensor1\n",
        "#Scadere cu functia sub() sau subtract()\n",
        "torch.sub(tensor2, tensor1)\n",
        "\n",
        "\n",
        "#Inmultire\n",
        "tensor1 * tensor2\n",
        "#Inmultire cu functia mul() sau multiply()\n",
        "torch.mul(tensor2, tensor1)\n",
        "\n",
        "\n",
        "#Impartire\n",
        "tensor2 / tensor1\n",
        "#Impartire cu functia div() sau divide()\n",
        "torch.div(tensor2, tensor1)\n",
        "\n",
        "\n",
        "#Procente % (Remainder Modulus)\n",
        "tensor2 % tensor1\n",
        "#Procente % (Remainder Modulus) cu functia remainder()\n",
        "torch.remainder(tensor2, tensor1)\n",
        "\n",
        "\n",
        "#Ridicare la putere (Exponenti)\n",
        "tensor2 ** tensor1\n",
        "#Ridicare la putere (Exponenti) cu functia pow()\n",
        "torch.pow(tensor2, tensor1)\n",
        "\n",
        "\n",
        "#O alta metoda de a scrie operatiile\n",
        "tensor1.add(tensor2)\n",
        "tensor1.sub(tensor2)\n",
        "tensor1.mul(tensor2)\n",
        "tensor1.div(tensor2)\n",
        "tensor1.remainder(tensor2)\n",
        "tensor1.pow(tensor2)\n",
        "\n",
        "\n",
        "#Reassignment\n",
        "\n",
        "#Method 1\n",
        "#tensor3 = tensor1 + tensor2\n",
        "#tensor1 = tensor3\n",
        "#tensor1\n",
        "\n",
        "#Method 2\n",
        "#tensor1 = tensor1 + tensor2\n",
        "#tensor1\n",
        "\n",
        "#Method 3 (Folosind '_' dupa add)\n",
        "#tensor1.add_(tensor2)\n",
        "#tensor1"
      ],
      "metadata": {
        "id": "1PxStFoGENmO"
      },
      "execution_count": null,
      "outputs": []
    },
    {
      "cell_type": "code",
      "source": [],
      "metadata": {
        "id": "e8g8eNXuFC32"
      },
      "execution_count": null,
      "outputs": []
    }
  ]
}